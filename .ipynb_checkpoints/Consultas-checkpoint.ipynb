{
 "cells": [
  {
   "cell_type": "markdown",
   "metadata": {},
   "source": [
    "# Trabajo Integrador Python"
   ]
  },
  {
   "cell_type": "markdown",
   "metadata": {},
   "source": [
    "## En este bloque de código, vamos a procesar los datasets para tener la información de las consultas preparadas."
   ]
  },
  {
   "cell_type": "code",
   "execution_count": null,
   "metadata": {},
   "outputs": [],
   "source": [
    "import main\n",
    "\n",
    "try :\n",
    "    main.procesar_aeropuertos()\n",
    "    main.procesar_conectividad()\n",
    "    main.procesar_lagos()\n",
    "    main.procesar_censo()\n",
    "    print (\"Archivos procesados\")\n",
    "except:\n",
    "    print (\"Ha ocurrido un error procesando los archivos\")"
   ]
  },
  {
   "cell_type": "markdown",
   "metadata": {},
   "source": [
    "## En el bloque siguiente estarán los path a cada uno de los archivos necesarios para la consulta."
   ]
  },
  {
   "cell_type": "code",
   "execution_count": null,
   "metadata": {},
   "outputs": [],
   "source": [
    "from pathlib import Path\n",
    "\n",
    "path_aeropuertos =  Path (\"new_datasets\") / \"ar-airports.csv\"\n",
    "path_conectividad = Path (\"new_datasets\") / \"Conectividad_Internet.csv\"\n",
    "path_censo = Path (\"new_datasets\") / \"c2022_tp_c_resumen_adaptado.csv\"\n",
    "path_lagos = Path (\"new_datasets\") / \"lagos_arg.csv\""
   ]
  },
  {
   "cell_type": "markdown",
   "metadata": {},
   "source": [
    "## Consulta 1: Mostrar los diferentes tipos de aeropuertos según la columna 'type'."
   ]
  },
  {
   "cell_type": "code",
   "execution_count": null,
   "metadata": {},
   "outputs": [],
   "source": [
    "from querys import consulta_1\n",
    "\n",
    "consulta_1.obtener_tipos_aeropuerto(path_aeropuertos)"
   ]
  },
  {
   "cell_type": "markdown",
   "metadata": {},
   "source": [
    "## Consulta #2 : Mostrar los aeropuertos de una elevación determinad cuya especificación, evaluando la columna creada 'elevation_name'."
   ]
  },
  {
   "cell_type": "code",
   "execution_count": null,
   "metadata": {},
   "outputs": [],
   "source": [
    "from querys import consulta_2\n",
    "\n",
    "consulta_2.main()"
   ]
  },
  {
   "cell_type": "markdown",
   "metadata": {},
   "source": [
    "## Consulta #3: Mostrar los aeropuertos que tienen una mayor o menor elevación con respecto a un valor numérico ingresado.\n"
   ]
  },
  {
   "cell_type": "code",
   "execution_count": null,
   "metadata": {},
   "outputs": [],
   "source": [
    "from querys import consulta_3\n",
    "\n",
    "consulta_3.main()"
   ]
  },
  {
   "cell_type": "markdown",
   "metadata": {},
   "source": [
    "## Consulta #4 : Los aeropuertos, lagos y tipo de conectividad en provincias con población mayor o menor a un valor que se pueda especificar fácilmente.\n"
   ]
  },
  {
   "cell_type": "code",
   "execution_count": null,
   "metadata": {},
   "outputs": [],
   "source": [
    "from querys import consulta_4\n",
    "\n",
    "consulta_4.consulta_4()"
   ]
  },
  {
   "cell_type": "markdown",
   "metadata": {},
   "source": [
    "## Consulta #5 : Mostrar los aeropuertos en las capitales de cada provincia.\n",
    " "
   ]
  },
  {
   "cell_type": "code",
   "execution_count": null,
   "metadata": {},
   "outputs": [],
   "source": [
    "from querys import consulta_5\n",
    "\n",
    "\n",
    "consulta_5.imprimir_aeropuertos_por_provincia(path_aeropuertos)"
   ]
  },
  {
   "cell_type": "markdown",
   "metadata": {},
   "source": [
    "## Consulta #6:  Mostrar los Lagos de una superficie según la columna 'Sup Tamaño' donde el criterio (chico, medio, grande) se puede indicar.\n"
   ]
  },
  {
   "cell_type": "code",
   "execution_count": null,
   "metadata": {},
   "outputs": [],
   "source": [
    "from querys import consulta_6\n",
    "\n",
    "consulta_6.consulta_6()"
   ]
  },
  {
   "cell_type": "markdown",
   "metadata": {},
   "source": [
    "## Consulta #7: Listar las 5 Jurisdicciones con mayor porcentaje de población en situación de calle. Mostrar el nombre de la jurisdicción y el porcentaje.\n"
   ]
  },
  {
   "cell_type": "code",
   "execution_count": null,
   "metadata": {},
   "outputs": [],
   "source": [
    "from querys import consulta_7\n",
    "\n",
    "consulta_7.tomar_top_5(path_censo)"
   ]
  },
  {
   "cell_type": "markdown",
   "metadata": {},
   "source": [
    "## Consulta #8: Obtener la jurisdicción donde la brecha entre las poblaciones diferenciadas según sexo registrado al nacer es mayor. Informar nombra de Jurisdicción y cantidad de la brecha poblacional.\n"
   ]
  },
  {
   "cell_type": "code",
   "execution_count": null,
   "metadata": {},
   "outputs": [],
   "source": [
    "from querys import consulta_8\n",
    "\n",
    "consulta_8.tomar_max_brecha(path_censo)"
   ]
  },
  {
   "cell_type": "markdown",
   "metadata": {},
   "source": [
    "## Consulta #9 : Mostrar los diferentes tipos de conectividades."
   ]
  },
  {
   "cell_type": "code",
   "execution_count": null,
   "metadata": {},
   "outputs": [],
   "source": [
    "from querys import consulta_9\n",
    "\n",
    "consulta_9.mostrar_tipos_conectividad(path_conectividad)"
   ]
  },
  {
   "cell_type": "markdown",
   "metadata": {},
   "source": [
    "## Consulta #10:  Mostrar las cantidades de localidades con cada tipo de conectividad.\n"
   ]
  },
  {
   "cell_type": "code",
   "execution_count": null,
   "metadata": {},
   "outputs": [],
   "source": [
    "from querys import consulta_10\n",
    "\n",
    "consulta_10.localidades_conectividad(path_conectividad)"
   ]
  },
  {
   "cell_type": "markdown",
   "metadata": {},
   "source": [
    "## Consulta #11: . Mostrar las provincias para las cuales todas sus ciudades poseen FIBRA ÓPTICA."
   ]
  },
  {
   "cell_type": "code",
   "execution_count": null,
   "metadata": {},
   "outputs": [],
   "source": [
    "from querys import consulta_11\n",
    "\n",
    "consulta_11.mostrar_provincias(path_conectividad)"
   ]
  },
  {
   "cell_type": "markdown",
   "metadata": {},
   "source": [
    "## Consulta #12: Mostrar para cada provincia su capital y, si se conoce la información para dicha capital, informar si posee conectividad (campo 'posee_conectividad' creado previamente). En caso de no conocer la información se muestra el texto “conectividad desconocida”"
   ]
  },
  {
   "cell_type": "code",
   "execution_count": null,
   "metadata": {},
   "outputs": [],
   "source": [
    "from querys import consulta_12\n",
    "\n",
    "consulta_12.capital_con_conectividad(path_conectividad)"
   ]
  },
  {
   "cell_type": "markdown",
   "metadata": {},
   "source": [
    "#"
   ]
  }
 ],
 "metadata": {
  "kernelspec": {
   "display_name": "Python 3 (ipykernel)",
   "language": "python",
   "name": "python3"
  },
  "language_info": {
   "codemirror_mode": {
    "name": "ipython",
    "version": 3
   },
   "file_extension": ".py",
   "mimetype": "text/x-python",
   "name": "python",
   "nbconvert_exporter": "python",
   "pygments_lexer": "ipython3",
   "version": "3.11.8"
  }
 },
 "nbformat": 4,
 "nbformat_minor": 4
}
